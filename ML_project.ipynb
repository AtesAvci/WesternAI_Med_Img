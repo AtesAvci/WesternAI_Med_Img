{
 "cells": [
  {
   "cell_type": "code",
   "execution_count": 1,
   "metadata": {
    "colab": {},
    "colab_type": "code",
    "id": "HbXKw-7fIMJm"
   },
   "outputs": [],
   "source": [
    "import os\n",
    "from os.path import join\n",
    "from IPython.display import Image, display\n",
    "import numpy as np\n",
    "import tempfile\n",
    "from sklearn.model_selection import train_test_split\n",
    "from tensorflow import keras\n",
    "from tensorflow.keras.preprocessing.image import load_img, ImageDataGenerator\n",
    "from tensorflow.keras.models import Sequential\n",
    "from tensorflow.keras.layers import Dense, Flatten, Conv2D, Conv1D,MaxPooling2D,Dropout,BatchNormalization\n",
    "###Danial\n",
    "###Oleksii\n",
    "## Ates\n",
    "###Leo\n",
    "### we got this !"
   ]
  },
  {
   "cell_type": "code",
   "execution_count": 2,
   "metadata": {
    "colab": {
     "base_uri": "https://localhost:8080/",
     "height": 68
    },
    "colab_type": "code",
    "id": "fLHZlMaoWJLg",
    "outputId": "80ab42ec-9a97-445c-ada2-9523888a1f6c"
   },
   "outputs": [
    {
     "name": "stdout",
     "output_type": "stream",
     "text": [
      "Found 5122 images belonging to 2 classes.\n",
      "Found 624 images belonging to 2 classes.\n",
      "Found 110 images belonging to 2 classes.\n"
     ]
    }
   ],
   "source": [
    "train_path = 'C:\\\\Users\\\\Dania\\\\Documents\\\\chest_xray\\\\train'\n",
    "val_path = 'C:\\\\Users\\\\Dania\\\\Documents\\\\chest_xray\\\\val'\n",
    "test_path = 'C:\\\\Users\\\\Dania\\\\Documents\\\\chest_xray\\\\test'\n",
    "train_batch = ImageDataGenerator(rescale=1./255,\n",
    "        shear_range=0.2,\n",
    "        zoom_range=0.2,\n",
    "        horizontal_flip=True).flow_from_directory(train_path,target_size = (32,32),classes =['NORMAL','PNEUMONIA'] ,batch_size=26)\n",
    "test_batch = ImageDataGenerator().flow_from_directory(test_path,target_size = (32,32),classes =['NORMAL','PNEUMONIA'] ,batch_size=26)\n",
    "val_batch = ImageDataGenerator(rescale=1./255,\n",
    "        shear_range=0.2,\n",
    "        zoom_range=0.2,\n",
    "        horizontal_flip=True).flow_from_directory(val_path,target_size = (32,32),classes =['NORMAL','PNEUMONIA'],batch_size=11)\n"
   ]
  },
  {
   "cell_type": "code",
   "execution_count": 3,
   "metadata": {
    "colab": {
     "base_uri": "https://localhost:8080/",
     "height": 425
    },
    "colab_type": "code",
    "id": "0yjsRj5LXTIj",
    "outputId": "d607deb1-296f-4f58-f3d6-f74c5e539a0a"
   },
   "outputs": [
    {
     "name": "stdout",
     "output_type": "stream",
     "text": [
      "Model: \"sequential\"\n",
      "_________________________________________________________________\n",
      "Layer (type)                 Output Shape              Param #   \n",
      "=================================================================\n",
      "conv2d (Conv2D)              (None, 30, 30, 16)        448       \n",
      "_________________________________________________________________\n",
      "dropout (Dropout)            (None, 30, 30, 16)        0         \n",
      "_________________________________________________________________\n",
      "max_pooling2d (MaxPooling2D) (None, 15, 15, 16)        0         \n",
      "_________________________________________________________________\n",
      "conv2d_1 (Conv2D)            (None, 13, 13, 32)        4640      \n",
      "_________________________________________________________________\n",
      "dropout_1 (Dropout)          (None, 13, 13, 32)        0         \n",
      "_________________________________________________________________\n",
      "max_pooling2d_1 (MaxPooling2 (None, 6, 6, 32)          0         \n",
      "_________________________________________________________________\n",
      "flatten (Flatten)            (None, 1152)              0         \n",
      "_________________________________________________________________\n",
      "dense (Dense)                (None, 512)               590336    \n",
      "_________________________________________________________________\n",
      "dropout_2 (Dropout)          (None, 512)               0         \n",
      "_________________________________________________________________\n",
      "dense_1 (Dense)              (None, 2)                 1026      \n",
      "=================================================================\n",
      "Total params: 596,450\n",
      "Trainable params: 596,450\n",
      "Non-trainable params: 0\n",
      "_________________________________________________________________\n"
     ]
    }
   ],
   "source": [
    "my_net = Sequential()\n",
    "my_net.add(Conv2D(16, (3, 3), activation=\"relu\", input_shape=(32, 32, 3)))\n",
    "my_net.add(Dropout(0.2))\n",
    "my_net.add(MaxPooling2D())\n",
    "my_net.add(Conv2D(32, (3, 3), activation=\"relu\", input_shape=(32, 32, 3)))\n",
    "my_net.add(Dropout(0.2))\n",
    "my_net.add(MaxPooling2D())\n",
    "my_net.add(Flatten())\n",
    "my_net.add(Dense(512, activation = 'relu'))\n",
    "my_net.add(Dropout(0.5))\n",
    "my_net.add(Dense(2,activation = 'softmax'))\n",
    "my_net.summary()\n"
   ]
  },
  {
   "cell_type": "code",
   "execution_count": 4,
   "metadata": {
    "colab": {
     "base_uri": "https://localhost:8080/",
     "height": 51
    },
    "colab_type": "code",
    "id": "MoYVWsoaXVak",
    "outputId": "879cf7a7-863e-465c-adfd-1a4d9411acee"
   },
   "outputs": [
    {
     "name": "stdout",
     "output_type": "stream",
     "text": [
      "Epoch 1/4\n",
      "197/197 [==============================] - 52s 266ms/step - loss: 0.3527 - accuracy: 0.8467 - val_loss: 0.4172 - val_accuracy: 0.8000\n",
      "Epoch 2/4\n",
      "197/197 [==============================] - 53s 271ms/step - loss: 0.2609 - accuracy: 0.8879 - val_loss: 0.5899 - val_accuracy: 0.6636\n",
      "Epoch 3/4\n",
      "197/197 [==============================] - 54s 275ms/step - loss: 0.2321 - accuracy: 0.9018 - val_loss: 0.4081 - val_accuracy: 0.7727\n",
      "Epoch 4/4\n",
      "197/197 [==============================] - 56s 286ms/step - loss: 0.2089 - accuracy: 0.9153 - val_loss: 0.2697 - val_accuracy: 0.9000\n"
     ]
    },
    {
     "data": {
      "text/plain": [
       "<tensorflow.python.keras.callbacks.History at 0x15088903820>"
      ]
     },
     "execution_count": 4,
     "metadata": {},
     "output_type": "execute_result"
    }
   ],
   "source": [
    "my_net.compile(loss = 'binary_crossentropy', optimizer = 'adam',metrics=['accuracy'])\n",
    "my_net.fit(train_batch,epochs = 4,validation_data=val_batch,validation_steps=10)"
   ]
  },
  {
   "cell_type": "code",
   "execution_count": 5,
   "metadata": {
    "colab": {
     "base_uri": "https://localhost:8080/",
     "height": 51
    },
    "colab_type": "code",
    "id": "GrPWYEApWGLh",
    "outputId": "6fa12497-729b-4f23-cd33-cd7f142ccef5"
   },
   "outputs": [
    {
     "name": "stdout",
     "output_type": "stream",
     "text": [
      "24/24 [==============================] - 6s 245ms/step - loss: 1.8464 - accuracy: 0.8782\n",
      "test loss, test acc: [1.846354365348816, 0.8782051205635071]\n"
     ]
    }
   ],
   "source": [
    "results = my_net.evaluate(test_batch)\n",
    "print(\"test loss, test acc:\", results)\n",
    "\n"
   ]
  },
  {
   "cell_type": "code",
   "execution_count": null,
   "metadata": {},
   "outputs": [],
   "source": []
  }
 ],
 "metadata": {
  "colab": {
   "collapsed_sections": [],
   "name": "Copy of Copy of ML_potential_project.ipynb",
   "provenance": []
  },
  "kernelspec": {
   "display_name": "Python 3",
   "language": "python",
   "name": "python3"
  },
  "language_info": {
   "codemirror_mode": {
    "name": "ipython",
    "version": 3
   },
   "file_extension": ".py",
   "mimetype": "text/x-python",
   "name": "python",
   "nbconvert_exporter": "python",
   "pygments_lexer": "ipython3",
   "version": "3.8.3"
  }
 },
 "nbformat": 4,
 "nbformat_minor": 4
}
